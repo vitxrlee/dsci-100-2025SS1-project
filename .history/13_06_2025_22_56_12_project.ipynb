{
 "cells": [
  {
   "cell_type": "markdown",
   "id": "873c49ef-1ee4-40b7-9653-104517bb28e1",
   "metadata": {},
   "source": [
    "# Predicting Usage of a Video Game Research Server\n",
    "Student Name: Vitor Han \n",
    "\n",
    "Student Number: 53497632"
   ]
  },
  {
   "cell_type": "markdown",
   "id": "8a2c7cbc-6051-428c-a00f-a4693f3c356b",
   "metadata": {},
   "source": [
    "## Introduction\n",
    "\n",
    "This analysis investigates the question:\n",
    " **What player characteristics and behaviours are most predictive of subscribing to a game-related newsletter, and how do these features differ between various player types?**\n",
    "\n",
    "We aim to build a predictive model and explore which variables are most influential in predicting newsletter subscription.\n",
    "\n",
    "## Data Collection\n"
   ]
  },
  {
   "cell_type": "code",
   "execution_count": null,
   "id": "dd80772f-a135-4fbf-bbcf-b7c3428a431c",
   "metadata": {},
   "outputs": [],
   "source": [
    "# Download data\n",
    "player_url <- \"\"  \n",
    "session_url <- \"\"\n",
    "\n",
    "# Saving locally\n",
    "download.file(player_url, destfile = \"players.csv\")\n",
    "download.file(session_url, destfile = \"sessions.csv\")\n",
    "\n",
    "#read data\n",
    "players <- read_csv(\"players.csv\") \n",
    "sessions <- read_csv(\"sessions.csv\") \n"
   ]
  },
  {
   "cell_type": "code",
   "execution_count": null,
   "id": "5e168913-bd8b-430e-923b-47c0b634b5b1",
   "metadata": {},
   "outputs": [],
   "source": []
  }
 ],
 "metadata": {
  "kernelspec": {
   "display_name": "R",
   "language": "R",
   "name": "ir"
  },
  "language_info": {
   "codemirror_mode": "r",
   "file_extension": ".r",
   "mimetype": "text/x-r-source",
   "name": "R",
   "pygments_lexer": "r",
   "version": "4.3.3"
  }
 },
 "nbformat": 4,
 "nbformat_minor": 5
}
