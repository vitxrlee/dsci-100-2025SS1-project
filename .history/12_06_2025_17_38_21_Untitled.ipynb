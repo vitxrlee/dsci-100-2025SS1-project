{
 "cells": [
  {
   "cell_type": "markdown",
   "id": "873c49ef-1ee4-40b7-9653-104517bb28e1",
   "metadata": {},
   "source": [
    "# Problem: Predicting Usage of a Video Game Research Server\n"
   ]
  },
  {
   "cell_type": "markdown",
   "id": "e8e83ba7-4c30-48f5-9f09-ca6ac7807a14",
   "metadata": {},
   "source": [
    "Question 1: What player characteristics and behaviours are most predictive of subscribing to a game-related newsletter, and how do these features differ between various player types?"
   ]
  },
  {
   "cell_type": "code",
   "execution_count": null,
   "id": "360a038e-924f-41c4-8341-c490fcb9dfdb",
   "metadata": {},
   "outputs": [],
   "source": []
  }
 ],
 "metadata": {
  "kernelspec": {
   "display_name": "R",
   "language": "R",
   "name": "ir"
  },
  "language_info": {
   "codemirror_mode": "r",
   "file_extension": ".r",
   "mimetype": "text/x-r-source",
   "name": "R",
   "pygments_lexer": "r",
   "version": "4.3.3"
  }
 },
 "nbformat": 4,
 "nbformat_minor": 5
}
