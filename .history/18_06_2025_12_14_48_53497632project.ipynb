{
 "cells": [
  {
   "cell_type": "markdown",
   "id": "873c49ef-1ee4-40b7-9653-104517bb28e1",
   "metadata": {},
   "source": [
    "# Predicting Usage of a Video Game Research Server\n",
    "Student Name: Vitor Han \n",
    "\n",
    "Student Number: 53497632"
   ]
  },
  {
   "cell_type": "markdown",
   "id": "8a2c7cbc-6051-428c-a00f-a4693f3c356b",
   "metadata": {},
   "source": [
    "## Introduction\n",
    "\n",
    "In collaboration with a UBC Computer Science research group, this project explores behavioral patterns of players on a Minecraft research server. The server records each player’s activity to understand player engagement, data contribution, and predict demand. Accurately predicting these factors helps the research team allocate server resources, target recruitment strategies, and improve player experience.\n",
    "\n",
    "I selected Question 1 of the broad questions and use it to formulate a specific question using some of the variables in the dataset.\n",
    "**Question 1:**  Can a player's gender predict their likelihood of subscribing to a game-related newsletter, and does this relationship differ between novice and experienced (\"Pro\" ) players?\n",
    "\n",
    "\n",
    "**Link to github repository:** https://github.com/vitxrlee/dsci-100-2025SS1-project?tab=readme-ov-file\n",
    "\n"
   ]
  },
  {
   "cell_type": "markdown",
   "id": "f624fc97-e899-4ea0-ae74-d601dabc2e44",
   "metadata": {},
   "source": [
    "## Data Description \n",
    "\n",
    "The dataset consists of two files:\n",
    "\n",
    "- players.csv: Contains demographic and gameplay-related features for each player (e.g., player ID, total play time, play frequency, and whether they subscribed to the newsletter).\n",
    "\n",
    "- sessions.csv: Includes logs of each play session per player (e.g., session start/end, actions performed, duration).\n",
    "\n",
    "### Summary of dataset:\n",
    "\n",
    "**players.csv (each row in this dataset indicates an individual player):**\n",
    "\n",
    "- experience: Self-reported gaming experience, categorized as Beginner, Amateur, Regular, Veteran, or Pro.\n",
    "\n",
    "- subscribe: Indicating whether the player subscribed to the server’s content or notifications.\n",
    "\n",
    "- hashedEmail: A pseudonymized identifier for each player.\n",
    "\n",
    "- played_hours: Total number of hours the player has played on the server.\n",
    "\n",
    "- name: The first name of the player.\n",
    "\n",
    "- gender: Gender identity (Male, Female, Non-binary).\n",
    "\n",
    "- age: The player’s self-reported age (integer).\n",
    "\n",
    "**sessions.csv:**\n",
    "\n",
    "- hashedEmail: useless in our project\n",
    "\n",
    "- start_time: The human-readable start time of the session.\n",
    "\n",
    "- end_time: The human-readable end time of the session.\n",
    "\n",
    "- original_start_time: Start time in Unix timestamp format.\n",
    "\n",
    "- original_end_time: End time in Unix timestamp format.\n"
   ]
  },
  {
   "cell_type": "markdown",
   "id": "cb9d867c-a449-4725-8161-afc2269c927a",
   "metadata": {},
   "source": [
    "## Methods & Results\n",
    "\n"
   ]
  },
  {
   "cell_type": "code",
   "execution_count": null,
   "id": "7faa7c41-5d52-468d-86a0-bf795d2f09c8",
   "metadata": {},
   "outputs": [],
   "source": [
    "library(tidyverse)\n",
    "library(rsample)\n",
    "library(tidymodels)\n",
    "\n",
    "# Download data\n",
    "player_url <- \"https://raw.githubusercontent.com/vitxrlee/dsci-100-2025SS1-project/refs/heads/main/players.csv\"  \n",
    "session_url <- \"https://raw.githubusercontent.com/vitxrlee/dsci-100-2025SS1-project/refs/heads/main/sessions.csv\"\n",
    "\n",
    "# Saving locally\n",
    "download.file(player_url, destfile = \"players.csv\")\n",
    "download.file(session_url, destfile = \"sessions.csv\")\n",
    "\n",
    "#read data\n",
    "players <- read_csv(\"players.csv\") \n",
    "sessions <- read_csv(\"sessions.csv\") "
   ]
  },
  {
   "cell_type": "code",
   "execution_count": null,
   "id": "43b73fbf-25ac-4a9e-8605-92231c211a33",
   "metadata": {},
   "outputs": [],
   "source": [
    "\n",
    "\n",
    "players <- mutate(players, gender_simple = ifelse(\n",
    "    gender == \"Male\", \"Male\",\n",
    "    ifelse(gender == \"Female\", \"Female\", \"Other\")\n",
    "  )\n",
    ")\n",
    "gender_subscribe <- players |>\n",
    "  group_by(gender_simple, subscribe) |>\n",
    "  summarize(count = n())\n",
    "\n",
    "gender_subscribe\n",
    "     "
   ]
  },
  {
   "cell_type": "code",
   "execution_count": null,
   "id": "674f07cd-a98d-467f-aa91-e329dc05f9c7",
   "metadata": {},
   "outputs": [],
   "source": [
    "gender_subscribe_female_bar <-  gender_subscribe |> \n",
    "     filter(gender_simple == \"Female\") |>\n",
    "     ggplot(aes(x=subscribe,y=count)) +\n",
    "     geom_bar(stat=\"identity\")+\n",
    "     labs(x=\"Subscription Status\",y=\"Number Of Female Players\",title=\"Female User Subscription Overview\") \n",
    "gender_subscribe_female_bar"
   ]
  },
  {
   "cell_type": "code",
   "execution_count": null,
   "id": "0163e40e-906a-4c73-bbbd-be393668ce42",
   "metadata": {},
   "outputs": [],
   "source": [
    "\n",
    "gender_subscribe_male_bar <-  gender_subscribe |> \n",
    "     filter(gender_simple == \"Male\") |>\n",
    "     ggplot(aes(x=subscribe,y=count)) +\n",
    "     geom_bar(stat=\"identity\")+\n",
    "     labs(x=\"Subscription Status\",y=\"Number Of Male Players\",title=\"Male User Subscription Overview\") \n",
    "gender_subscribe_male_bar"
   ]
  },
  {
   "cell_type": "code",
   "execution_count": null,
   "id": "87419fb3-e559-43aa-a759-162a1ece65d9",
   "metadata": {},
   "outputs": [],
   "source": [
    "gender_subscribe_gender_minorities_bar <-  gender_subscribe |> \n",
    "     filter(gender_simple == \"Other\") |>\n",
    "     ggplot(aes(x=subscribe,y=count)) +\n",
    "     geom_bar(stat=\"identity\")+\n",
    "     labs(x=\"Subscription Status\",y=\"Number Of Minorities Players\",title=\"Minorities User Subscription Overview\") \n",
    "gender_subscribe_gender_minorities_bar\n",
    "     "
   ]
  },
  {
   "cell_type": "markdown",
   "id": "60455214-5596-4ec0-97f2-ea541dd0beca",
   "metadata": {},
   "source": [
    "## Discussion\n",
    "\n",
    "The KNN model demonstrated that behavioral metrics such as played hours, session frequency, and experience level are useful predictors of whether a player subscribes to the newsletter. Players with longer play times and more frequent sessions showed a higher likelihood of subscribing.\n",
    "\n",
    "This aligns with expectations: more engaged users are more likely to seek updates and involvement with the game community. This analysis can guide the research team in targeting engaged users for promotional content and community building.\n",
    "\n",
    "Some limitations include:\n",
    "\n",
    "No session-level interaction or action data\n",
    "\n",
    "Assumes static behavior over time\n",
    "\n",
    "Uses basic features without engineered game event categories\n",
    "\n",
    "Future work should explore logistic regression and decision trees to assess interpretability and feature impact. Social activity (e.g., simultaneous play) could also offer predictive power."
   ]
  }
 ],
 "metadata": {
  "kernelspec": {
   "display_name": "R",
   "language": "R",
   "name": "ir"
  },
  "language_info": {
   "codemirror_mode": "r",
   "file_extension": ".r",
   "mimetype": "text/x-r-source",
   "name": "R",
   "pygments_lexer": "r",
   "version": "4.3.3"
  }
 },
 "nbformat": 4,
 "nbformat_minor": 5
}
